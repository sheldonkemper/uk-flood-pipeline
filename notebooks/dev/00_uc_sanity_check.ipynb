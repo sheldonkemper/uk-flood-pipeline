{
 "cells": [
  {
   "cell_type": "markdown",
   "id": "26714771",
   "metadata": {},
   "source": [
    "1. Confirm catalog and schemas"
   ]
  },
  {
   "cell_type": "code",
   "execution_count": null,
   "id": "a09351b8",
   "metadata": {
    "vscode": {
     "languageId": "plaintext"
    }
   },
   "outputs": [],
   "source": [
    "from pyspark.sql import SparkSession\n",
    "spark = SparkSession.builder.getOrCreate()\n",
    "\n",
    "# Show catalogs\n",
    "spark.sql(\"SHOW CATALOGS\").show()\n",
    "\n",
    "# Switch catalog and list schemas\n",
    "spark.sql(\"USE CATALOG flood_dev\")\n",
    "spark.sql(\"SHOW SCHEMAS\").show()\n",
    "\n",
    "# Query a table\n",
    "df = spark.sql(\"\"\"\n",
    "    SELECT * FROM flood_dev.bronze.raw_payloads\n",
    "    WHERE alert_level = 'High'\n",
    "\"\"\")\n",
    "df.show()\n"
   ]
  }
 ],
 "metadata": {
  "language_info": {
   "name": "python"
  }
 },
 "nbformat": 4,
 "nbformat_minor": 5
}
